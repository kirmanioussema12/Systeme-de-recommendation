{
  "nbformat": 4,
  "nbformat_minor": 0,
  "metadata": {
    "colab": {
      "provenance": [],
      "authorship_tag": "ABX9TyPc89yLL4VJv66xx0Lm4qbG",
      "include_colab_link": true
    },
    "kernelspec": {
      "name": "python3",
      "display_name": "Python 3"
    },
    "language_info": {
      "name": "python"
    }
  },
  "cells": [
    {
      "cell_type": "markdown",
      "metadata": {
        "id": "view-in-github",
        "colab_type": "text"
      },
      "source": [
        "<a href=\"https://colab.research.google.com/github/kirmanioussema12/Systeme-de-recommendation/blob/main/Recommendation.ipynb\" target=\"_parent\"><img src=\"https://colab.research.google.com/assets/colab-badge.svg\" alt=\"Open In Colab\"/></a>"
      ]
    },
    {
      "cell_type": "code",
      "execution_count": null,
      "metadata": {
        "id": "ZwctT4eKzq_X"
      },
      "outputs": [],
      "source": [
        "import pandas as pd\n",
        "import numpy as np"
      ]
    },
    {
      "cell_type": "code",
      "source": [
        "train_data = pd.read_csv(\"u1.base\", sep=\"\\t\", names=[\"user_id\", \"item_id\", \"rating\", \"timestamp\"])\n",
        "test_data = pd.read_csv(\"u1.test\", sep=\"\\t\", names=[\"user_id\", \"item_id\", \"rating\", \"timestamp\"])\n",
        "train_data = train_data.drop(columns=[\"timestamp\"])\n",
        "test_data = test_data.drop(columns=[\"timestamp\"])"
      ],
      "metadata": {
        "id": "rZcfGdPq0Fck"
      },
      "execution_count": null,
      "outputs": []
    },
    {
      "cell_type": "code",
      "source": [
        "# Générer une matrice utilisateur-item pour les données d'apprentissage\n",
        "vote_matrix = train_data.pivot(index=\"user_id\", columns=\"item_id\", values=\"rating\").fillna(0)\n"
      ],
      "metadata": {
        "id": "ijwBgXCN0Rc4"
      },
      "execution_count": null,
      "outputs": []
    },
    {
      "cell_type": "code",
      "source": [
        "vote_matrix_nan = vote_matrix.replace(0, np.nan)\n",
        "print(vote_matrix_nan)"
      ],
      "metadata": {
        "colab": {
          "base_uri": "https://localhost:8080/"
        },
        "id": "xzWV0beT0V21",
        "outputId": "f0409b39-0a88-413e-cd74-b47c4ae7b41f"
      },
      "execution_count": null,
      "outputs": [
        {
          "output_type": "stream",
          "name": "stdout",
          "text": [
            "item_id  1     2     3     4     5     6     7     8     9     10    ...  \\\n",
            "user_id                                                              ...   \n",
            "1         5.0   3.0   4.0   3.0   3.0   NaN   4.0   1.0   5.0   NaN  ...   \n",
            "2         4.0   NaN   NaN   NaN   NaN   NaN   NaN   NaN   NaN   2.0  ...   \n",
            "3         NaN   NaN   NaN   NaN   NaN   NaN   NaN   NaN   NaN   NaN  ...   \n",
            "4         NaN   NaN   NaN   NaN   NaN   NaN   NaN   NaN   NaN   NaN  ...   \n",
            "5         NaN   NaN   NaN   NaN   NaN   NaN   NaN   NaN   NaN   NaN  ...   \n",
            "...       ...   ...   ...   ...   ...   ...   ...   ...   ...   ...  ...   \n",
            "939       NaN   NaN   NaN   NaN   NaN   NaN   NaN   NaN   5.0   NaN  ...   \n",
            "940       NaN   NaN   NaN   2.0   NaN   NaN   4.0   5.0   3.0   NaN  ...   \n",
            "941       5.0   NaN   NaN   NaN   NaN   NaN   4.0   NaN   NaN   NaN  ...   \n",
            "942       NaN   NaN   NaN   NaN   NaN   NaN   NaN   NaN   NaN   NaN  ...   \n",
            "943       NaN   5.0   NaN   NaN   NaN   NaN   NaN   NaN   3.0   NaN  ...   \n",
            "\n",
            "item_id  1673  1674  1675  1676  1677  1678  1679  1680  1681  1682  \n",
            "user_id                                                              \n",
            "1         NaN   NaN   NaN   NaN   NaN   NaN   NaN   NaN   NaN   NaN  \n",
            "2         NaN   NaN   NaN   NaN   NaN   NaN   NaN   NaN   NaN   NaN  \n",
            "3         NaN   NaN   NaN   NaN   NaN   NaN   NaN   NaN   NaN   NaN  \n",
            "4         NaN   NaN   NaN   NaN   NaN   NaN   NaN   NaN   NaN   NaN  \n",
            "5         NaN   NaN   NaN   NaN   NaN   NaN   NaN   NaN   NaN   NaN  \n",
            "...       ...   ...   ...   ...   ...   ...   ...   ...   ...   ...  \n",
            "939       NaN   NaN   NaN   NaN   NaN   NaN   NaN   NaN   NaN   NaN  \n",
            "940       NaN   NaN   NaN   NaN   NaN   NaN   NaN   NaN   NaN   NaN  \n",
            "941       NaN   NaN   NaN   NaN   NaN   NaN   NaN   NaN   NaN   NaN  \n",
            "942       NaN   NaN   NaN   NaN   NaN   NaN   NaN   NaN   NaN   NaN  \n",
            "943       NaN   NaN   NaN   NaN   NaN   NaN   NaN   NaN   NaN   NaN  \n",
            "\n",
            "[943 rows x 1650 columns]\n"
          ]
        }
      ]
    },
    {
      "cell_type": "code",
      "source": [
        "def pearson_similarity_with_nan(user1, user2, min_common_items=7):\n",
        "    # Récupérer les indices des items co-évalués sans NaN\n",
        "    common_items = vote_matrix_nan.loc[user1].notna() & vote_matrix_nan.loc[user2].notna()\n",
        "\n",
        "    # Vérifier qu'il y a suffisamment d'items en commun\n",
        "    if common_items.sum() < min_common_items:\n",
        "        return 0  # Retourne 0 si moins de 7 items en commun\n",
        "\n",
        "    # Extraire les votes communs et calculer la similarité de Pearson\n",
        "    ratings1 = vote_matrix_nan.loc[user1, common_items]\n",
        "    ratings2 = vote_matrix_nan.loc[user2, common_items]\n",
        "    return ratings1.corr(ratings2)\n",
        "\n",
        "# Calculer la matrice de similarité en utilisant cette fonction\n",
        "num_users = vote_matrix_nan.shape[0]\n",
        "similarity_matrix = np.zeros((num_users, num_users))\n",
        "\n",
        "for u in range(num_users):\n",
        "    for v in range(u + 1, num_users):\n",
        "        sim = pearson_similarity_with_nan(u + 1, v + 1)\n",
        "        similarity_matrix[u, v] = sim\n",
        "        similarity_matrix[v, u] = sim\n",
        "\n",
        "np.fill_diagonal(similarity_matrix, 1)  # La diagonale est 1 car la similarité avec soi-même est maximale\n",
        "\n"
      ],
      "metadata": {
        "colab": {
          "base_uri": "https://localhost:8080/"
        },
        "id": "Xk2iiaKt0gyd",
        "outputId": "23e64254-1095-452d-fab3-f8e8c6c230ba"
      },
      "execution_count": null,
      "outputs": [
        {
          "output_type": "stream",
          "name": "stderr",
          "text": [
            "/usr/local/lib/python3.10/dist-packages/numpy/lib/function_base.py:2897: RuntimeWarning: invalid value encountered in divide\n",
            "  c /= stddev[:, None]\n",
            "/usr/local/lib/python3.10/dist-packages/numpy/lib/function_base.py:2898: RuntimeWarning: invalid value encountered in divide\n",
            "  c /= stddev[None, :]\n"
          ]
        }
      ]
    },
    {
      "cell_type": "code",
      "source": [
        "def get_k_nearest_neighbors(user_id, k):\n",
        "    user_index = user_id - 1  # Pour obtenir l'index dans la matrice\n",
        "    similarities = similarity_matrix[user_index]\n",
        "    sorted_neighbors = np.argsort(similarities)[::-1]  # Tri par similarité décroissante\n",
        "    sorted_neighbors = [neighbor for neighbor in sorted_neighbors if similarities[neighbor] > 0]\n",
        "    return sorted_neighbors[:k]\n"
      ],
      "metadata": {
        "id": "i3kOVTuV1i_q"
      },
      "execution_count": null,
      "outputs": []
    },
    {
      "cell_type": "code",
      "source": [
        "# Predict rating function for a single user-item pair remains unchanged\n",
        "def predict_rating(user_id, item_id, k):\n",
        "    neighbors = get_k_nearest_neighbors(user_id, k)\n",
        "    numerator = 0\n",
        "    denominator = 0\n",
        "\n",
        "    for neighbor in neighbors:\n",
        "        neighbor_id = neighbor + 1  # Mapping index to user_id\n",
        "        rating = vote_matrix_nan.loc[neighbor_id, item_id]\n",
        "\n",
        "        if not np.isnan(rating):  # Ignore NaN values\n",
        "            similarity = similarity_matrix[user_id - 1, neighbor]\n",
        "            numerator += similarity * rating\n",
        "            denominator += similarity\n",
        "\n",
        "    if denominator == 0:\n",
        "        return np.nan  # Return NaN if no neighbors voted for this item\n",
        "    return numerator / denominator\n",
        "\n",
        "# Function to predict all NaN values for all users and items\n",
        "def predict_all_ratings(vote_matrix_nan, k):\n",
        "    # Copy the matrix to avoid modifying the original matrix\n",
        "    predicted_matrix = vote_matrix_nan.copy()\n",
        "\n",
        "    # Iterate over each user and item\n",
        "    for user_id in vote_matrix_nan.index:\n",
        "        for item_id in vote_matrix_nan.columns:\n",
        "            # Predict only if the current rating is NaN\n",
        "            if pd.isna(vote_matrix_nan.loc[user_id, item_id]):\n",
        "                predicted_matrix.loc[user_id, item_id] = predict_rating(user_id, item_id, k)\n",
        "\n",
        "    return predicted_matrix\n",
        "\n",
        "# Set number of neighbors (e.g., k=10)\n",
        "k = 10\n",
        "\n",
        "# Call the function to predict all NaN values in the vote matrix\n",
        "predicted_matrix = predict_all_ratings(vote_matrix_nan, k)\n",
        "\n",
        "# Display the matrix with all predicted values filled in\n",
        "print(predicted_matrix)\n",
        "user_id = 3  # Remplacer par un identifiant d'utilisateur\n",
        "item_id = 7  # Remplacer par un identifiant d'item\n",
        "print(f\"Prédiction de vote pour l'utilisateur {user_id} et l'item {item_id}: {predicted_rating}\")"
      ],
      "metadata": {
        "colab": {
          "base_uri": "https://localhost:8080/"
        },
        "id": "PaH2jbCS3M7j",
        "outputId": "4a1ab6ae-bd9c-437b-f9e8-f749a869f3b5"
      },
      "execution_count": null,
      "outputs": [
        {
          "output_type": "stream",
          "name": "stdout",
          "text": [
            "item_id      1         2        3         4     5     6         7     \\\n",
            "user_id                                                                \n",
            "1        5.000000  3.000000  4.00000  3.000000   3.0   NaN  4.000000   \n",
            "2        4.000000  2.000000      NaN  3.517010   3.0   NaN  4.486163   \n",
            "3        3.507951  3.000000  3.53474  3.000000   5.0   NaN  3.578473   \n",
            "4        4.000000  3.303905  4.00000  2.742059   4.0   NaN  4.198756   \n",
            "5        4.444125  3.000000      NaN  3.000000   2.0   NaN  4.659708   \n",
            "...           ...       ...      ...       ...   ...   ...       ...   \n",
            "939      3.246592  3.000000  3.00000  3.000000   NaN   NaN  4.658906   \n",
            "940      3.000000       NaN      NaN  2.000000   4.0   NaN  4.000000   \n",
            "941      5.000000  4.000000  1.00000  1.000000   NaN   NaN  4.000000   \n",
            "942      4.343375       NaN  4.00000       NaN   4.0   NaN  4.483315   \n",
            "943      4.194672  5.000000      NaN       NaN   NaN   NaN  3.965452   \n",
            "\n",
            "item_id      8         9         10    ...  1673  1674  1675  1676  1677  \\\n",
            "user_id                                ...                                 \n",
            "1        1.000000  5.000000       NaN  ...   NaN   NaN   NaN   NaN   NaN   \n",
            "2        3.000000  3.719439  2.000000  ...   NaN   NaN   NaN   NaN   NaN   \n",
            "3        3.000000  3.164825  2.485292  ...   NaN   NaN   NaN   NaN   NaN   \n",
            "4        5.000000  4.232261       NaN  ...   NaN   NaN   NaN   NaN   NaN   \n",
            "5        4.469154  4.521376       NaN  ...   NaN   NaN   NaN   NaN   NaN   \n",
            "...           ...       ...       ...  ...   ...   ...   ...   ...   ...   \n",
            "939      3.000000  5.000000  3.493546  ...   NaN   NaN   NaN   NaN   NaN   \n",
            "940      5.000000  3.000000       NaN  ...   NaN   NaN   NaN   NaN   NaN   \n",
            "941      4.483226  2.942852       NaN  ...   NaN   NaN   NaN   NaN   NaN   \n",
            "942      4.518601  4.000000       NaN  ...   NaN   NaN   NaN   NaN   NaN   \n",
            "943           NaN  3.000000       NaN  ...   NaN   NaN   NaN   NaN   NaN   \n",
            "\n",
            "item_id  1678  1679  1680  1681  1682  \n",
            "user_id                                \n",
            "1         NaN   NaN   NaN   NaN   NaN  \n",
            "2         NaN   NaN   NaN   NaN   NaN  \n",
            "3         NaN   NaN   NaN   NaN   NaN  \n",
            "4         NaN   NaN   NaN   3.0   NaN  \n",
            "5         NaN   NaN   NaN   NaN   NaN  \n",
            "...       ...   ...   ...   ...   ...  \n",
            "939       NaN   NaN   NaN   NaN   NaN  \n",
            "940       NaN   NaN   NaN   NaN   NaN  \n",
            "941       NaN   NaN   NaN   NaN   NaN  \n",
            "942       NaN   NaN   NaN   NaN   NaN  \n",
            "943       NaN   NaN   NaN   NaN   NaN  \n",
            "\n",
            "[943 rows x 1650 columns]\n",
            "Prédiction de vote pour l'utilisateur 3 et l'item 7: nan\n"
          ]
        }
      ]
    },
    {
      "cell_type": "code",
      "source": [],
      "metadata": {
        "id": "_MIduuNP4U1p"
      },
      "execution_count": null,
      "outputs": []
    }
  ]
}